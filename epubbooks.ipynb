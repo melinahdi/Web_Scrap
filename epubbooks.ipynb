{
 "metadata": {
  "language_info": {
   "codemirror_mode": {
    "name": "ipython",
    "version": 3
   },
   "file_extension": ".py",
   "mimetype": "text/x-python",
   "name": "python",
   "nbconvert_exporter": "python",
   "pygments_lexer": "ipython3",
   "version": "3.8.5"
  },
  "orig_nbformat": 2,
  "kernelspec": {
   "name": "python385jvsc74a57bd06d46af94c2bbce495f1e668725902fa517c90b1782bcfe2fce0dd9868df553d3",
   "display_name": "Python 3.8.5 64-bit ('base': conda)"
  }
 },
 "nbformat": 4,
 "nbformat_minor": 2,
 "cells": [
  {
   "source": [
    "# EPUBBOOKS WEB SCRAPING"
   ],
   "cell_type": "markdown",
   "metadata": {}
  },
  {
   "cell_type": "code",
   "execution_count": 28,
   "metadata": {},
   "outputs": [],
   "source": [
    "import pandas as pd\n",
    "import requests\n",
    "from bs4 import BeautifulSoup"
   ]
  },
  {
   "cell_type": "code",
   "execution_count": 29,
   "metadata": {},
   "outputs": [],
   "source": [
    "page=requests.get('https://www.epubbooks.com/books?page=1').text"
   ]
  },
  {
   "cell_type": "code",
   "execution_count": 30,
   "metadata": {},
   "outputs": [],
   "source": [
    "soup=BeautifulSoup(page,'html.parser')"
   ]
  },
  {
   "cell_type": "code",
   "execution_count": 31,
   "metadata": {},
   "outputs": [],
   "source": [
    "trs=soup.find_all('h2')"
   ]
  },
  {
   "cell_type": "code",
   "execution_count": 33,
   "metadata": {},
   "outputs": [],
   "source": [
    "data_combined=[]\n",
    "\n",
    "for i in range(len(trs)):\n",
    "    tr=trs[i]\n",
    "    title=tr.find_all('a')\n",
    "    author=tr.find_all('span')\n",
    "    data_combined.append({\n",
    "    'book title' : title[0].get_text(),\n",
    "    'author' : author[0].get_text()\n",
    "    })"
   ]
  },
  {
   "cell_type": "code",
   "execution_count": 34,
   "metadata": {},
   "outputs": [
    {
     "output_type": "execute_result",
     "data": {
      "text/plain": [
       "                               book title                author\n",
       "0                  The Torrents of Spring      Ernest Hemingway\n",
       "1                                Red Aces         Edgar Wallace\n",
       "2                      Last Men in London        Olaf Stapledon\n",
       "3     Biggles in the Cruise of the Condor           W. E. Johns\n",
       "4             Five On Kirrin Island Again           Enid Blyton\n",
       "5                       A Backward Glance         Edith Wharton\n",
       "6                       The Narrow Corner   W. Somerset Maugham\n",
       "7                    Commodore Hornblower        C. S. Forester\n",
       "8                            The Squealer         Edgar Wallace\n",
       "9                             Thunderball           Ian Fleming\n",
       "10                            Vile Bodies          Evelyn Waugh\n",
       "11               The Secret of Killimooin           Enid Blyton\n",
       "12                          Heaven & Hell         Aldous Huxley\n",
       "13                         Flying Colours        C. S. Forester\n",
       "14                  Lady Windermere's Fan           Oscar Wilde\n",
       "15               The Story of Dr. Wassell          James Hilton\n",
       "16                The Woman Who Rode Away        D. H. Lawrence\n",
       "17                          Fifty Candles     Earl Derr Biggers\n",
       "18  Sam Steele's Adventures on Land & Sea         L. Frank Baum\n",
       "19               Five Go Off in a Caravan           Enid Blyton\n",
       "20                              Henry VII      Charles Williams\n",
       "21                The Murder on the Links       Agatha Christie\n",
       "22                     Till we have Faces           C. S. Lewis\n",
       "23                               Odd John        Olaf Stapledon\n",
       "24                       The Golden Peril           Lester Dent\n",
       "25              Five Go To Smuggler's Top           Enid Blyton\n",
       "26                    Biggles in the Blue           W. E. Johns\n",
       "27           By the Shores of Silver Lake  Laura Ingalls Wilder\n",
       "28                The Doors of Perception         Aldous Huxley\n",
       "29                     A Passage to India         E. M. Forster"
      ],
      "text/html": "<div>\n<style scoped>\n    .dataframe tbody tr th:only-of-type {\n        vertical-align: middle;\n    }\n\n    .dataframe tbody tr th {\n        vertical-align: top;\n    }\n\n    .dataframe thead th {\n        text-align: right;\n    }\n</style>\n<table border=\"1\" class=\"dataframe\">\n  <thead>\n    <tr style=\"text-align: right;\">\n      <th></th>\n      <th>book title</th>\n      <th>author</th>\n    </tr>\n  </thead>\n  <tbody>\n    <tr>\n      <th>0</th>\n      <td>The Torrents of Spring</td>\n      <td>Ernest Hemingway</td>\n    </tr>\n    <tr>\n      <th>1</th>\n      <td>Red Aces</td>\n      <td>Edgar Wallace</td>\n    </tr>\n    <tr>\n      <th>2</th>\n      <td>Last Men in London</td>\n      <td>Olaf Stapledon</td>\n    </tr>\n    <tr>\n      <th>3</th>\n      <td>Biggles in the Cruise of the Condor</td>\n      <td>W. E. Johns</td>\n    </tr>\n    <tr>\n      <th>4</th>\n      <td>Five On Kirrin Island Again</td>\n      <td>Enid Blyton</td>\n    </tr>\n    <tr>\n      <th>5</th>\n      <td>A Backward Glance</td>\n      <td>Edith Wharton</td>\n    </tr>\n    <tr>\n      <th>6</th>\n      <td>The Narrow Corner</td>\n      <td>W. Somerset Maugham</td>\n    </tr>\n    <tr>\n      <th>7</th>\n      <td>Commodore Hornblower</td>\n      <td>C. S. Forester</td>\n    </tr>\n    <tr>\n      <th>8</th>\n      <td>The Squealer</td>\n      <td>Edgar Wallace</td>\n    </tr>\n    <tr>\n      <th>9</th>\n      <td>Thunderball</td>\n      <td>Ian Fleming</td>\n    </tr>\n    <tr>\n      <th>10</th>\n      <td>Vile Bodies</td>\n      <td>Evelyn Waugh</td>\n    </tr>\n    <tr>\n      <th>11</th>\n      <td>The Secret of Killimooin</td>\n      <td>Enid Blyton</td>\n    </tr>\n    <tr>\n      <th>12</th>\n      <td>Heaven &amp; Hell</td>\n      <td>Aldous Huxley</td>\n    </tr>\n    <tr>\n      <th>13</th>\n      <td>Flying Colours</td>\n      <td>C. S. Forester</td>\n    </tr>\n    <tr>\n      <th>14</th>\n      <td>Lady Windermere's Fan</td>\n      <td>Oscar Wilde</td>\n    </tr>\n    <tr>\n      <th>15</th>\n      <td>The Story of Dr. Wassell</td>\n      <td>James Hilton</td>\n    </tr>\n    <tr>\n      <th>16</th>\n      <td>The Woman Who Rode Away</td>\n      <td>D. H. Lawrence</td>\n    </tr>\n    <tr>\n      <th>17</th>\n      <td>Fifty Candles</td>\n      <td>Earl Derr Biggers</td>\n    </tr>\n    <tr>\n      <th>18</th>\n      <td>Sam Steele's Adventures on Land &amp; Sea</td>\n      <td>L. Frank Baum</td>\n    </tr>\n    <tr>\n      <th>19</th>\n      <td>Five Go Off in a Caravan</td>\n      <td>Enid Blyton</td>\n    </tr>\n    <tr>\n      <th>20</th>\n      <td>Henry VII</td>\n      <td>Charles Williams</td>\n    </tr>\n    <tr>\n      <th>21</th>\n      <td>The Murder on the Links</td>\n      <td>Agatha Christie</td>\n    </tr>\n    <tr>\n      <th>22</th>\n      <td>Till we have Faces</td>\n      <td>C. S. Lewis</td>\n    </tr>\n    <tr>\n      <th>23</th>\n      <td>Odd John</td>\n      <td>Olaf Stapledon</td>\n    </tr>\n    <tr>\n      <th>24</th>\n      <td>The Golden Peril</td>\n      <td>Lester Dent</td>\n    </tr>\n    <tr>\n      <th>25</th>\n      <td>Five Go To Smuggler's Top</td>\n      <td>Enid Blyton</td>\n    </tr>\n    <tr>\n      <th>26</th>\n      <td>Biggles in the Blue</td>\n      <td>W. E. Johns</td>\n    </tr>\n    <tr>\n      <th>27</th>\n      <td>By the Shores of Silver Lake</td>\n      <td>Laura Ingalls Wilder</td>\n    </tr>\n    <tr>\n      <th>28</th>\n      <td>The Doors of Perception</td>\n      <td>Aldous Huxley</td>\n    </tr>\n    <tr>\n      <th>29</th>\n      <td>A Passage to India</td>\n      <td>E. M. Forster</td>\n    </tr>\n  </tbody>\n</table>\n</div>"
     },
     "metadata": {},
     "execution_count": 34
    }
   ],
   "source": [
    "df=pd.DataFrame(data_combined)\n",
    "df"
   ]
  },
  {
   "source": [
    "This is only the first page of the website"
   ],
   "cell_type": "markdown",
   "metadata": {}
  },
  {
   "cell_type": "code",
   "execution_count": 11,
   "metadata": {},
   "outputs": [],
   "source": [
    "page_all=soup.find_all('ul', {'class':'pagination pagination-lg'})"
   ]
  },
  {
   "cell_type": "code",
   "execution_count": 13,
   "metadata": {},
   "outputs": [
    {
     "output_type": "execute_result",
     "data": {
      "text/plain": [
       "[<a href=\"/books?page=2\" rel=\"next\">2</a>,\n",
       " <a href=\"/books?page=3\">3</a>,\n",
       " <a href=\"/books?page=4\">4</a>,\n",
       " <a href=\"/books?page=5\">5</a>,\n",
       " <a href=\"/books?page=74\">74</a>,\n",
       " <a href=\"/books?page=75\">75</a>,\n",
       " <a href=\"/books?page=2\" rel=\"next\">→</a>]"
      ]
     },
     "metadata": {},
     "execution_count": 13
    }
   ],
   "source": [
    "find_href=[]\n",
    "\n",
    "for i in page_all:\n",
    "    find_href.extend(i.find_all('a'))\n",
    "\n",
    "find_href"
   ]
  },
  {
   "source": [
    "Because the HTML page after the page 5 is disabled. I try to limit the scrapping process to just up until page 5"
   ],
   "cell_type": "markdown",
   "metadata": {}
  },
  {
   "cell_type": "code",
   "execution_count": 14,
   "metadata": {},
   "outputs": [],
   "source": [
    "del find_href[4:]"
   ]
  },
  {
   "cell_type": "code",
   "execution_count": 18,
   "metadata": {},
   "outputs": [
    {
     "output_type": "execute_result",
     "data": {
      "text/plain": [
       "['/books?page=2', '/books?page=3', '/books?page=4', '/books?page=5']"
      ]
     },
     "metadata": {},
     "execution_count": 18
    }
   ],
   "source": [
    "extend_link=[]\n",
    "\n",
    "for i in find_href:\n",
    "    extend_link.append(i.get('href'))\n",
    "\n",
    "extend_link"
   ]
  },
  {
   "cell_type": "code",
   "execution_count": 22,
   "metadata": {},
   "outputs": [],
   "source": [
    "base_url='https://www.epubbooks.com'"
   ]
  },
  {
   "cell_type": "code",
   "execution_count": 23,
   "metadata": {},
   "outputs": [
    {
     "output_type": "execute_result",
     "data": {
      "text/plain": [
       "['https://www.epubbooks.com/books?page=2',\n",
       " 'https://www.epubbooks.com/books?page=3',\n",
       " 'https://www.epubbooks.com/books?page=4',\n",
       " 'https://www.epubbooks.com/books?page=5']"
      ]
     },
     "metadata": {},
     "execution_count": 23
    }
   ],
   "source": [
    "page_url=[]\n",
    "\n",
    "for i in extend_link:\n",
    "    page_url.append(base_url+i)\n",
    "\n",
    "page_url"
   ]
  },
  {
   "cell_type": "code",
   "execution_count": 36,
   "metadata": {},
   "outputs": [],
   "source": [
    "soups=[]\n",
    "soups.append(soup)\n",
    "\n",
    "for link in page_url:\n",
    "    pages=requests.get(link).text\n",
    "    soups.append(BeautifulSoup(pages,'html.parser'))\n",
    "\n",
    "data_all=[]\n",
    "for soup in soups:\n",
    "    trs=soup.find_all('h2')\n",
    "\n",
    "    for i in range(len(trs)):\n",
    "        tr=trs[i]\n",
    "        title=tr.find_all('a')\n",
    "        author=tr.find_all('span')\n",
    "        data_all.append({\n",
    "        'book title' : title[0].get_text(),\n",
    "        'author' : author[0].get_text()\n",
    "        })\n"
   ]
  },
  {
   "cell_type": "code",
   "execution_count": 37,
   "metadata": {},
   "outputs": [
    {
     "output_type": "execute_result",
     "data": {
      "text/plain": [
       "                              book title             author\n",
       "0                 The Torrents of Spring   Ernest Hemingway\n",
       "1                               Red Aces      Edgar Wallace\n",
       "2                     Last Men in London     Olaf Stapledon\n",
       "3    Biggles in the Cruise of the Condor        W. E. Johns\n",
       "4            Five On Kirrin Island Again        Enid Blyton\n",
       "..                                   ...                ...\n",
       "145         The Widowing of Mrs. Holroyd     D. H. Lawrence\n",
       "146                            Antic Hay      Aldous Huxley\n",
       "147                       As I Lay Dying   William Faulkner\n",
       "148                                 Rome         Émile Zola\n",
       "149                       Love Insurance  Earl Derr Biggers\n",
       "\n",
       "[150 rows x 2 columns]"
      ],
      "text/html": "<div>\n<style scoped>\n    .dataframe tbody tr th:only-of-type {\n        vertical-align: middle;\n    }\n\n    .dataframe tbody tr th {\n        vertical-align: top;\n    }\n\n    .dataframe thead th {\n        text-align: right;\n    }\n</style>\n<table border=\"1\" class=\"dataframe\">\n  <thead>\n    <tr style=\"text-align: right;\">\n      <th></th>\n      <th>book title</th>\n      <th>author</th>\n    </tr>\n  </thead>\n  <tbody>\n    <tr>\n      <th>0</th>\n      <td>The Torrents of Spring</td>\n      <td>Ernest Hemingway</td>\n    </tr>\n    <tr>\n      <th>1</th>\n      <td>Red Aces</td>\n      <td>Edgar Wallace</td>\n    </tr>\n    <tr>\n      <th>2</th>\n      <td>Last Men in London</td>\n      <td>Olaf Stapledon</td>\n    </tr>\n    <tr>\n      <th>3</th>\n      <td>Biggles in the Cruise of the Condor</td>\n      <td>W. E. Johns</td>\n    </tr>\n    <tr>\n      <th>4</th>\n      <td>Five On Kirrin Island Again</td>\n      <td>Enid Blyton</td>\n    </tr>\n    <tr>\n      <th>...</th>\n      <td>...</td>\n      <td>...</td>\n    </tr>\n    <tr>\n      <th>145</th>\n      <td>The Widowing of Mrs. Holroyd</td>\n      <td>D. H. Lawrence</td>\n    </tr>\n    <tr>\n      <th>146</th>\n      <td>Antic Hay</td>\n      <td>Aldous Huxley</td>\n    </tr>\n    <tr>\n      <th>147</th>\n      <td>As I Lay Dying</td>\n      <td>William Faulkner</td>\n    </tr>\n    <tr>\n      <th>148</th>\n      <td>Rome</td>\n      <td>Émile Zola</td>\n    </tr>\n    <tr>\n      <th>149</th>\n      <td>Love Insurance</td>\n      <td>Earl Derr Biggers</td>\n    </tr>\n  </tbody>\n</table>\n<p>150 rows × 2 columns</p>\n</div>"
     },
     "metadata": {},
     "execution_count": 37
    }
   ],
   "source": [
    "df_all=pd.DataFrame(data_all)\n",
    "df_all"
   ]
  },
  {
   "cell_type": "code",
   "execution_count": 39,
   "metadata": {},
   "outputs": [],
   "source": [
    "df_all.to_csv('epubbooks.csv', index=False)"
   ]
  },
  {
   "cell_type": "code",
   "execution_count": null,
   "metadata": {},
   "outputs": [],
   "source": []
  }
 ]
}